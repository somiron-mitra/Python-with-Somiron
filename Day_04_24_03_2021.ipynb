{
 "cells": [
  {
   "cell_type": "code",
   "execution_count": null,
   "metadata": {},
   "outputs": [],
   "source": []
  },
  {
   "cell_type": "code",
   "execution_count": null,
   "metadata": {},
   "outputs": [],
   "source": []
  },
  {
   "cell_type": "code",
   "execution_count": null,
   "metadata": {},
   "outputs": [],
   "source": []
  },
  {
   "cell_type": "code",
   "execution_count": null,
   "metadata": {},
   "outputs": [],
   "source": []
  },
  {
   "cell_type": "code",
   "execution_count": null,
   "metadata": {},
   "outputs": [],
   "source": []
  },
  {
   "cell_type": "code",
   "execution_count": null,
   "metadata": {},
   "outputs": [],
   "source": []
  },
  {
   "cell_type": "code",
   "execution_count": 2,
   "metadata": {},
   "outputs": [
    {
     "name": "stdout",
     "output_type": "stream",
     "text": [
      "somiron mitra\n"
     ]
    }
   ],
   "source": [
    "# Introduction to f string\n",
    "\n",
    "# f\"custom words{placeholder} {placeholder1}---------- say {n}\n",
    "\n",
    "# Note - place holder is nothing but the reference points of the variables that we have created.\n",
    "\n",
    "first = \"somiron\"\n",
    "\n",
    "last = \"mitra\"\n",
    "\n",
    "sentence = f\"{first} {last}\"\n",
    "\n",
    "print(sentence)"
   ]
  },
  {
   "cell_type": "code",
   "execution_count": 3,
   "metadata": {},
   "outputs": [
    {
     "name": "stdout",
     "output_type": "stream",
     "text": [
      "my name is somiron mitra\n"
     ]
    }
   ],
   "source": [
    "sentence = f\"my name is {first} {last}\"\n",
    "\n",
    "print(sentence)"
   ]
  },
  {
   "cell_type": "code",
   "execution_count": null,
   "metadata": {},
   "outputs": [],
   "source": []
  },
  {
   "cell_type": "code",
   "execution_count": 4,
   "metadata": {},
   "outputs": [
    {
     "name": "stdout",
     "output_type": "stream",
     "text": [
      "aahana mitra\n"
     ]
    }
   ],
   "source": [
    "first1 = \"aahana\"\n",
    "\n",
    "sentence1 = f\"{first1} {last}\"\n",
    "\n",
    "print(sentence1)"
   ]
  },
  {
   "cell_type": "code",
   "execution_count": 5,
   "metadata": {},
   "outputs": [
    {
     "name": "stdout",
     "output_type": "stream",
     "text": [
      "sujata mitra\n"
     ]
    }
   ],
   "source": [
    "mother = \"sujata\"\n",
    "\n",
    "sentence2 = f\"{mother} {last}\"\n",
    "\n",
    "print(sentence2)"
   ]
  },
  {
   "cell_type": "code",
   "execution_count": 6,
   "metadata": {},
   "outputs": [
    {
     "name": "stdout",
     "output_type": "stream",
     "text": [
      "somiron aahana sujata mitra\n"
     ]
    }
   ],
   "source": [
    "sentence_all = f\"{first} {first1} {mother} {last}\"\n",
    "\n",
    "print(sentence_all)"
   ]
  },
  {
   "cell_type": "code",
   "execution_count": 8,
   "metadata": {},
   "outputs": [
    {
     "name": "stdout",
     "output_type": "stream",
     "text": [
      "somironaahanasujatamitra\n"
     ]
    }
   ],
   "source": [
    "sentence_all = f\"{first}{first1}{mother}{last}\"\n",
    "\n",
    "print(sentence_all)"
   ]
  },
  {
   "cell_type": "code",
   "execution_count": 9,
   "metadata": {},
   "outputs": [
    {
     "name": "stdout",
     "output_type": "stream",
     "text": [
      "mitra sujata\n"
     ]
    }
   ],
   "source": [
    "sentence_last = f\"{last} {mother}\"\n",
    "\n",
    "print(sentence_last)"
   ]
  },
  {
   "cell_type": "code",
   "execution_count": 10,
   "metadata": {},
   "outputs": [
    {
     "name": "stdout",
     "output_type": "stream",
     "text": [
      "Somiron Mitra\n"
     ]
    }
   ],
   "source": [
    "# Req : Now i want to write the name in capital letter\n",
    "\n",
    "first = \"somiron\"\n",
    "\n",
    "last = \"mitra\"\n",
    "\n",
    "sentence = f\"{first.title()} {last.title()}\"\n",
    "\n",
    "print(sentence)\n"
   ]
  },
  {
   "cell_type": "code",
   "execution_count": null,
   "metadata": {},
   "outputs": [],
   "source": []
  },
  {
   "cell_type": "code",
   "execution_count": 11,
   "metadata": {},
   "outputs": [
    {
     "name": "stdout",
     "output_type": "stream",
     "text": [
      "Somiron Aahana Sujata Mitra\n"
     ]
    }
   ],
   "source": [
    "sentence_all = f\"{first.title()} {first1.title()} {mother.title()} {last.title()}\"\n",
    "\n",
    "print(sentence_all)"
   ]
  },
  {
   "cell_type": "code",
   "execution_count": null,
   "metadata": {},
   "outputs": [],
   "source": []
  },
  {
   "cell_type": "code",
   "execution_count": 12,
   "metadata": {},
   "outputs": [
    {
     "name": "stdout",
     "output_type": "stream",
     "text": [
      "somironaahanasujatamitraSomiron Aahana Sujata Mitra\n"
     ]
    }
   ],
   "source": [
    "sentence_all = f\"{first}{first1}{mother}{last}{first.title()} {first1.title()} {mother.title()} {last.title()}\"\n",
    "\n",
    "print(sentence_all)"
   ]
  },
  {
   "cell_type": "code",
   "execution_count": null,
   "metadata": {},
   "outputs": [],
   "source": []
  },
  {
   "cell_type": "code",
   "execution_count": 13,
   "metadata": {},
   "outputs": [
    {
     "name": "stdout",
     "output_type": "stream",
     "text": [
      "SomironAAHANASujatamitraSomiron Aahana Sujata Mitra\n"
     ]
    }
   ],
   "source": [
    "sentence_all = f\"{first.title()}{first1.upper()}{mother.title()}{last}{first.title()} {first1.title()} {mother.title()} {last.title()}\"\n",
    "\n",
    "print(sentence_all)"
   ]
  },
  {
   "cell_type": "code",
   "execution_count": null,
   "metadata": {},
   "outputs": [],
   "source": []
  },
  {
   "cell_type": "code",
   "execution_count": 14,
   "metadata": {},
   "outputs": [
    {
     "name": "stdout",
     "output_type": "stream",
     "text": [
      "Somiron AAHANA Sujata mitra       Somiron    Aahana   Sujata    Mitra\n"
     ]
    }
   ],
   "source": [
    "sentence_all = f\"{first.title()} {first1.upper()} {mother.title()} {last}       {first.title()}    {first1.title()}   {mother.title()}    {last.title()}\"\n",
    "\n",
    "print(sentence_all)"
   ]
  },
  {
   "cell_type": "code",
   "execution_count": null,
   "metadata": {},
   "outputs": [],
   "source": []
  },
  {
   "cell_type": "code",
   "execution_count": 17,
   "metadata": {},
   "outputs": [
    {
     "name": "stdout",
     "output_type": "stream",
     "text": [
      "Somiron Aahana Sujata Mitra\n"
     ]
    }
   ],
   "source": [
    "# Adding space to string\n",
    "\n",
    "sentence_all = f\"{first.title()} {first1.title()} {mother.title()} {last.title()}\"\n",
    "\n",
    "print(sentence_all)"
   ]
  },
  {
   "cell_type": "code",
   "execution_count": null,
   "metadata": {},
   "outputs": [],
   "source": []
  },
  {
   "cell_type": "code",
   "execution_count": null,
   "metadata": {},
   "outputs": [],
   "source": []
  },
  {
   "cell_type": "code",
   "execution_count": null,
   "metadata": {},
   "outputs": [],
   "source": []
  },
  {
   "cell_type": "code",
   "execution_count": null,
   "metadata": {},
   "outputs": [],
   "source": []
  },
  {
   "cell_type": "code",
   "execution_count": null,
   "metadata": {},
   "outputs": [],
   "source": []
  },
  {
   "cell_type": "code",
   "execution_count": null,
   "metadata": {},
   "outputs": [],
   "source": []
  },
  {
   "cell_type": "code",
   "execution_count": null,
   "metadata": {},
   "outputs": [],
   "source": []
  },
  {
   "cell_type": "code",
   "execution_count": null,
   "metadata": {},
   "outputs": [],
   "source": []
  },
  {
   "cell_type": "code",
   "execution_count": null,
   "metadata": {},
   "outputs": [],
   "source": []
  },
  {
   "cell_type": "code",
   "execution_count": null,
   "metadata": {},
   "outputs": [],
   "source": []
  },
  {
   "cell_type": "code",
   "execution_count": null,
   "metadata": {},
   "outputs": [],
   "source": []
  },
  {
   "cell_type": "code",
   "execution_count": null,
   "metadata": {},
   "outputs": [],
   "source": []
  },
  {
   "cell_type": "code",
   "execution_count": null,
   "metadata": {},
   "outputs": [],
   "source": []
  },
  {
   "cell_type": "code",
   "execution_count": null,
   "metadata": {},
   "outputs": [],
   "source": []
  },
  {
   "cell_type": "code",
   "execution_count": null,
   "metadata": {},
   "outputs": [],
   "source": []
  }
 ],
 "metadata": {
  "kernelspec": {
   "display_name": "Python 3",
   "language": "python",
   "name": "python3"
  },
  "language_info": {
   "codemirror_mode": {
    "name": "ipython",
    "version": 3
   },
   "file_extension": ".py",
   "mimetype": "text/x-python",
   "name": "python",
   "nbconvert_exporter": "python",
   "pygments_lexer": "ipython3",
   "version": "3.8.5"
  }
 },
 "nbformat": 4,
 "nbformat_minor": 4
}
