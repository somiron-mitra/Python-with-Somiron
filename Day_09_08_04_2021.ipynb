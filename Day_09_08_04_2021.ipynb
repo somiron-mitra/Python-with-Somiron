{
 "cells": [
  {
   "cell_type": "code",
   "execution_count": null,
   "metadata": {},
   "outputs": [],
   "source": [
    "# Introduction to List Data types\n",
    "\n",
    "# Def: a list is a collection of items in a \"particular order\"\n",
    "\n",
    "# classification : list is a mutable datatype\n",
    "\n",
    "# it is defined by using [ ]"
   ]
  },
  {
   "cell_type": "code",
   "execution_count": 1,
   "metadata": {},
   "outputs": [
    {
     "name": "stdout",
     "output_type": "stream",
     "text": [
      "['rahul', 'rohit', 'mohit', 'vipul']\n"
     ]
    }
   ],
   "source": [
    "students = [\"rahul\", \"rohit\", \"mohit\", \"vipul\"]\n",
    "\n",
    "print(students)"
   ]
  },
  {
   "cell_type": "code",
   "execution_count": 2,
   "metadata": {},
   "outputs": [
    {
     "data": {
      "text/plain": [
       "list"
      ]
     },
     "execution_count": 2,
     "metadata": {},
     "output_type": "execute_result"
    }
   ],
   "source": [
    "# Req : what kind of datatype is students ?\n",
    "\n",
    "type(students)"
   ]
  },
  {
   "cell_type": "code",
   "execution_count": null,
   "metadata": {},
   "outputs": [],
   "source": [
    "students = [\"rahul\", \"rohit\", \"mohit\", \"vipul\"]\n",
    "\n",
    "# ==> elements\n",
    "\n",
    "# Now how to access the elements from the above list ?\n",
    "\n",
    "# Introduction to Indexing\n",
    "\n",
    "# So in the defination of list data type we have clearly mentioned that a particular order is to maintained. \n",
    "# So to maintain this particular order we use the concept of Indexing\n",
    "\n",
    "\n",
    "# What does indexing mean ?\n",
    "\n",
    "# In backend indexing means assigning the values to the variable.\n",
    "\n",
    "# So how does it start ?\n",
    "\n",
    "# 0,1,2,3,4,5,6,......."
   ]
  },
  {
   "cell_type": "code",
   "execution_count": 6,
   "metadata": {},
   "outputs": [
    {
     "name": "stdout",
     "output_type": "stream",
     "text": [
      "['rahul', 'rohit', 'mohit', 'vipul', 'varun', 'mohit', 'aniket']\n"
     ]
    }
   ],
   "source": [
    "students_1 = [\"rahul\", \"rohit\", \"mohit\", \"vipul\", \"varun\", \"mohit\", \"aniket\"]\n",
    "print(students_1)"
   ]
  },
  {
   "cell_type": "code",
   "execution_count": 3,
   "metadata": {},
   "outputs": [
    {
     "name": "stdout",
     "output_type": "stream",
     "text": [
      "['rahul', 'rohit', 'mohit', 'vipul']\n"
     ]
    }
   ],
   "source": [
    "# req : i want to print the variable in position 3\n",
    "\n",
    "print(students)"
   ]
  },
  {
   "cell_type": "code",
   "execution_count": 9,
   "metadata": {},
   "outputs": [
    {
     "name": "stdout",
     "output_type": "stream",
     "text": [
      "['rahul', 'rohit', 'mohit', 'vipul', 'varun', 'mohit', 'aniket']\n"
     ]
    }
   ],
   "source": [
    "print(students)"
   ]
  },
  {
   "cell_type": "code",
   "execution_count": 8,
   "metadata": {},
   "outputs": [
    {
     "name": "stdout",
     "output_type": "stream",
     "text": [
      "['rahul', 'rohit', 'mohit', 'vipul', 'varun', 'mohit', 'aniket']\n"
     ]
    }
   ],
   "source": [
    "print(students)"
   ]
  },
  {
   "cell_type": "code",
   "execution_count": 11,
   "metadata": {},
   "outputs": [
    {
     "name": "stdout",
     "output_type": "stream",
     "text": [
      "['ram', 'sam', 'ana']\n"
     ]
    }
   ],
   "source": [
    "students_2 = [\"ram\", \"sam\", \"ana\"]\n",
    "print(students)"
   ]
  },
  {
   "cell_type": "code",
   "execution_count": 10,
   "metadata": {},
   "outputs": [
    {
     "name": "stdout",
     "output_type": "stream",
     "text": [
      "['rahul', 'rohit', 'mohit', 'vipul', 'varun', 'mohit', 'aniket']\n"
     ]
    }
   ],
   "source": [
    "print(students)"
   ]
  },
  {
   "cell_type": "code",
   "execution_count": 12,
   "metadata": {},
   "outputs": [
    {
     "name": "stdout",
     "output_type": "stream",
     "text": [
      "['ram', 'sam', 'ana']\n"
     ]
    }
   ],
   "source": [
    "print(students)"
   ]
  },
  {
   "cell_type": "code",
   "execution_count": 13,
   "metadata": {},
   "outputs": [
    {
     "name": "stdout",
     "output_type": "stream",
     "text": [
      "['rahul', 'rohit', 'mohit', 'vipul']\n",
      "['rahul', 'rohit', 'mohit', 'vipul', 'varun', 'mohit', 'aniket']\n",
      "['ram', 'sam', 'ana']\n"
     ]
    }
   ],
   "source": [
    "students = [\"rahul\", \"rohit\", \"mohit\", \"vipul\"]\n",
    "students_1 = [\"rahul\", \"rohit\", \"mohit\", \"vipul\", \"varun\", \"mohit\", \"aniket\"]\n",
    "students_2 = [\"ram\", \"sam\", \"ana\"]\n",
    "\n",
    "print(students)\n",
    "print(students_1)\n",
    "print(students_2)"
   ]
  },
  {
   "cell_type": "code",
   "execution_count": 14,
   "metadata": {},
   "outputs": [
    {
     "name": "stdout",
     "output_type": "stream",
     "text": [
      "['rahul', 'rohit', 'mohit', 'vipul']\n"
     ]
    }
   ],
   "source": [
    "print(students)"
   ]
  },
  {
   "cell_type": "code",
   "execution_count": 15,
   "metadata": {},
   "outputs": [
    {
     "name": "stdout",
     "output_type": "stream",
     "text": [
      "['rahul', 'rohit', 'mohit', 'vipul', 'varun', 'mohit', 'aniket']\n"
     ]
    }
   ],
   "source": [
    "# req : i want to print the variable in position 3\n",
    "\n",
    "print(students_1)"
   ]
  },
  {
   "cell_type": "code",
   "execution_count": 16,
   "metadata": {},
   "outputs": [
    {
     "name": "stdout",
     "output_type": "stream",
     "text": [
      "vipul\n"
     ]
    }
   ],
   "source": [
    "print(students_1[3])"
   ]
  },
  {
   "cell_type": "code",
   "execution_count": 17,
   "metadata": {},
   "outputs": [
    {
     "ename": "IndexError",
     "evalue": "list index out of range",
     "output_type": "error",
     "traceback": [
      "\u001b[1;31m---------------------------------------------------------------------------\u001b[0m",
      "\u001b[1;31mIndexError\u001b[0m                                Traceback (most recent call last)",
      "\u001b[1;32m<ipython-input-17-9b1ca1adc841>\u001b[0m in \u001b[0;36m<module>\u001b[1;34m\u001b[0m\n\u001b[1;32m----> 1\u001b[1;33m \u001b[0mprint\u001b[0m\u001b[1;33m(\u001b[0m\u001b[0mstudents_1\u001b[0m\u001b[1;33m[\u001b[0m\u001b[1;36m7\u001b[0m\u001b[1;33m]\u001b[0m\u001b[1;33m)\u001b[0m\u001b[1;33m\u001b[0m\u001b[1;33m\u001b[0m\u001b[0m\n\u001b[0m",
      "\u001b[1;31mIndexError\u001b[0m: list index out of range"
     ]
    }
   ],
   "source": [
    "print(students_1[7])"
   ]
  },
  {
   "cell_type": "code",
   "execution_count": 18,
   "metadata": {},
   "outputs": [
    {
     "name": "stdout",
     "output_type": "stream",
     "text": [
      "aniket\n"
     ]
    }
   ],
   "source": [
    "print(students_1[6])"
   ]
  },
  {
   "cell_type": "code",
   "execution_count": 19,
   "metadata": {},
   "outputs": [
    {
     "name": "stdout",
     "output_type": "stream",
     "text": [
      "Rohit\n"
     ]
    }
   ],
   "source": [
    "print(students_1[1].title())"
   ]
  },
  {
   "cell_type": "code",
   "execution_count": 20,
   "metadata": {},
   "outputs": [
    {
     "name": "stdout",
     "output_type": "stream",
     "text": [
      "ROHIT\n"
     ]
    }
   ],
   "source": [
    "print(students_1[1].upper())"
   ]
  },
  {
   "cell_type": "code",
   "execution_count": 21,
   "metadata": {},
   "outputs": [
    {
     "ename": "SyntaxError",
     "evalue": "unexpected character after line continuation character (<ipython-input-21-9d782fff3336>, line 1)",
     "output_type": "error",
     "traceback": [
      "\u001b[1;36m  File \u001b[1;32m\"<ipython-input-21-9d782fff3336>\"\u001b[1;36m, line \u001b[1;32m1\u001b[0m\n\u001b[1;33m    print(students_1[\\n1].upper())\u001b[0m\n\u001b[1;37m                                  ^\u001b[0m\n\u001b[1;31mSyntaxError\u001b[0m\u001b[1;31m:\u001b[0m unexpected character after line continuation character\n"
     ]
    }
   ],
   "source": [
    "print(students_1[\\n1].upper())"
   ]
  },
  {
   "cell_type": "code",
   "execution_count": 22,
   "metadata": {},
   "outputs": [
    {
     "name": "stdout",
     "output_type": "stream",
     "text": [
      "ROHIT\n"
     ]
    }
   ],
   "source": [
    "print(students_1[1].upper())"
   ]
  },
  {
   "cell_type": "code",
   "execution_count": null,
   "metadata": {},
   "outputs": [],
   "source": []
  }
 ],
 "metadata": {
  "kernelspec": {
   "display_name": "Python 3",
   "language": "python",
   "name": "python3"
  },
  "language_info": {
   "codemirror_mode": {
    "name": "ipython",
    "version": 3
   },
   "file_extension": ".py",
   "mimetype": "text/x-python",
   "name": "python",
   "nbconvert_exporter": "python",
   "pygments_lexer": "ipython3",
   "version": "3.8.5"
  }
 },
 "nbformat": 4,
 "nbformat_minor": 4
}
