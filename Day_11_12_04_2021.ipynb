{
 "cells": [
  {
   "cell_type": "code",
   "execution_count": 1,
   "metadata": {},
   "outputs": [
    {
     "data": {
      "text/plain": [
       "11"
      ]
     },
     "execution_count": 1,
     "metadata": {},
     "output_type": "execute_result"
    }
   ],
   "source": [
    "5+6\n"
   ]
  },
  {
   "cell_type": "code",
   "execution_count": 2,
   "metadata": {},
   "outputs": [
    {
     "ename": "TypeError",
     "evalue": "insert expected 2 arguments, got 1",
     "output_type": "error",
     "traceback": [
      "\u001b[1;31m---------------------------------------------------------------------------\u001b[0m",
      "\u001b[1;31mTypeError\u001b[0m                                 Traceback (most recent call last)",
      "\u001b[1;32m<ipython-input-2-8ca5bbf1de13>\u001b[0m in \u001b[0;36m<module>\u001b[1;34m\u001b[0m\n\u001b[0;32m      1\u001b[0m \u001b[0mname\u001b[0m \u001b[1;33m=\u001b[0m \u001b[1;33m[\u001b[0m\u001b[1;34m'aniket'\u001b[0m\u001b[1;33m,\u001b[0m \u001b[1;34m'rahul'\u001b[0m\u001b[1;33m,\u001b[0m \u001b[1;34m'varun'\u001b[0m\u001b[1;33m]\u001b[0m\u001b[1;33m\u001b[0m\u001b[1;33m\u001b[0m\u001b[0m\n\u001b[1;32m----> 2\u001b[1;33m \u001b[0mname\u001b[0m\u001b[1;33m.\u001b[0m\u001b[0minsert\u001b[0m\u001b[1;33m(\u001b[0m\u001b[1;34m'sana'\u001b[0m\u001b[1;33m)\u001b[0m\u001b[1;33m\u001b[0m\u001b[1;33m\u001b[0m\u001b[0m\n\u001b[0m\u001b[0;32m      3\u001b[0m \u001b[0mprint\u001b[0m\u001b[1;33m(\u001b[0m\u001b[0mname\u001b[0m\u001b[1;33m)\u001b[0m\u001b[1;33m\u001b[0m\u001b[1;33m\u001b[0m\u001b[0m\n",
      "\u001b[1;31mTypeError\u001b[0m: insert expected 2 arguments, got 1"
     ]
    }
   ],
   "source": [
    "name = ['aniket', 'rahul', 'varun']\n",
    "name.insert('sana')\n",
    "print(name)"
   ]
  },
  {
   "cell_type": "code",
   "execution_count": 3,
   "metadata": {},
   "outputs": [
    {
     "ename": "SyntaxError",
     "evalue": "invalid syntax (<ipython-input-3-e9e3074a2abd>, line 2)",
     "output_type": "error",
     "traceback": [
      "\u001b[1;36m  File \u001b[1;32m\"<ipython-input-3-e9e3074a2abd>\"\u001b[1;36m, line \u001b[1;32m2\u001b[0m\n\u001b[1;33m    name.insert( ,'sana')\u001b[0m\n\u001b[1;37m                 ^\u001b[0m\n\u001b[1;31mSyntaxError\u001b[0m\u001b[1;31m:\u001b[0m invalid syntax\n"
     ]
    }
   ],
   "source": [
    "name = ['aniket', 'rahul', 'varun']\n",
    "name.insert( ,'sana')\n",
    "print(name)"
   ]
  },
  {
   "cell_type": "code",
   "execution_count": 4,
   "metadata": {},
   "outputs": [
    {
     "name": "stdout",
     "output_type": "stream",
     "text": [
      "['aniket', 'sana', 'rahul', 'varun']\n"
     ]
    }
   ],
   "source": [
    "name = ['aniket', 'rahul', 'varun']\n",
    "name.insert(1,'sana')\n",
    "print(name)"
   ]
  },
  {
   "cell_type": "code",
   "execution_count": 5,
   "metadata": {},
   "outputs": [
    {
     "name": "stdout",
     "output_type": "stream",
     "text": [
      "['aniket', 'rahul', 'varun', 'anita']\n"
     ]
    }
   ],
   "source": [
    "name = ['aniket', 'rahul', 'varun']\n",
    "name.insert(3,'anita')\n",
    "print(name)"
   ]
  },
  {
   "cell_type": "code",
   "execution_count": 6,
   "metadata": {},
   "outputs": [
    {
     "name": "stdout",
     "output_type": "stream",
     "text": [
      "['aniket', 'ritu', 'rahul', 'varun']\n"
     ]
    }
   ],
   "source": [
    "name = ['aniket', 'rahul', 'varun']\n",
    "name.insert(1,'ritu')\n",
    "print(name)"
   ]
  },
  {
   "cell_type": "code",
   "execution_count": 7,
   "metadata": {},
   "outputs": [
    {
     "name": "stdout",
     "output_type": "stream",
     "text": [
      "['aniket', 'sana', 'rahul', 'varun']\n"
     ]
    }
   ],
   "source": [
    "name = ['aniket', 'rahul', 'varun']\n",
    "name.insert(1,'sana')\n",
    "print(name)"
   ]
  },
  {
   "cell_type": "code",
   "execution_count": 8,
   "metadata": {},
   "outputs": [
    {
     "name": "stdout",
     "output_type": "stream",
     "text": [
      "['aniket', 'ritu', 'rahul', 'varun']\n"
     ]
    }
   ],
   "source": [
    "name = ['aniket', 'rahul', 'varun']\n",
    "name.insert(1,'ritu')\n",
    "print(name)"
   ]
  },
  {
   "cell_type": "code",
   "execution_count": 9,
   "metadata": {},
   "outputs": [
    {
     "name": "stdout",
     "output_type": "stream",
     "text": [
      "['aniket', 'sana', 'rahul', 'varun']\n"
     ]
    }
   ],
   "source": [
    "name = ['aniket', 'rahul', 'varun']\n",
    "name.insert(1,'sana')\n",
    "print(name)"
   ]
  },
  {
   "cell_type": "code",
   "execution_count": 11,
   "metadata": {},
   "outputs": [
    {
     "name": "stdout",
     "output_type": "stream",
     "text": [
      "['aniket', 'ritu', 'sana', 'rahul', 'varun']\n"
     ]
    }
   ],
   "source": [
    "name_1 = ['aniket', 'sana', 'rahul', 'varun']\n",
    "name_1.insert(1,'ritu')\n",
    "print(name_1)"
   ]
  },
  {
   "cell_type": "code",
   "execution_count": 12,
   "metadata": {},
   "outputs": [
    {
     "name": "stdout",
     "output_type": "stream",
     "text": [
      "['aniket', 'sam', 'ritu', 'sana', 'rahul', 'varun', 'rohit']\n"
     ]
    }
   ],
   "source": [
    "name01 = ['aniket', 'ritu', 'sana', 'rahul', 'varun']\n",
    "name01.append('rohit')\n",
    "name01.insert(1, 'sam')\n",
    "print(name01)"
   ]
  },
  {
   "cell_type": "code",
   "execution_count": null,
   "metadata": {},
   "outputs": [],
   "source": [
    "# Req : Now i want to delete an element\n"
   ]
  },
  {
   "cell_type": "code",
   "execution_count": 13,
   "metadata": {},
   "outputs": [],
   "source": [
    "name02 = ['aniket', 'sam', 'ritu', 'sana', 'rahul', 'varun', 'rohit']\n",
    "del name02[0]\n"
   ]
  },
  {
   "cell_type": "code",
   "execution_count": 14,
   "metadata": {},
   "outputs": [
    {
     "name": "stdout",
     "output_type": "stream",
     "text": [
      "['sam', 'ritu', 'sana', 'rahul', 'varun', 'rohit']\n"
     ]
    }
   ],
   "source": [
    "print(name02)"
   ]
  },
  {
   "cell_type": "code",
   "execution_count": 15,
   "metadata": {},
   "outputs": [
    {
     "ename": "SyntaxError",
     "evalue": "cannot delete function call (<ipython-input-15-099328e89cb0>, line 4)",
     "output_type": "error",
     "traceback": [
      "\u001b[1;36m  File \u001b[1;32m\"<ipython-input-15-099328e89cb0>\"\u001b[1;36m, line \u001b[1;32m4\u001b[0m\n\u001b[1;33m    del name03(4)\u001b[0m\n\u001b[1;37m        ^\u001b[0m\n\u001b[1;31mSyntaxError\u001b[0m\u001b[1;31m:\u001b[0m cannot delete function call\n"
     ]
    }
   ],
   "source": [
    "name03 = ['aniket', 'sam', 'ritu', 'sana', 'rahul', 'varun', 'rohit']\n",
    "name03.append('raj')\n",
    "name03.insert(3, 'nikhil')\n",
    "del name03(4)"
   ]
  },
  {
   "cell_type": "code",
   "execution_count": 16,
   "metadata": {},
   "outputs": [
    {
     "name": "stdout",
     "output_type": "stream",
     "text": [
      "['aniket', 'sam', 'ritu', 'nikhil', 'rahul', 'varun', 'rohit', 'raj']\n"
     ]
    }
   ],
   "source": [
    "name03 = ['aniket', 'sam', 'ritu', 'sana', 'rahul', 'varun', 'rohit']\n",
    "name03.append('raj')\n",
    "name03.insert(3, 'nikhil')\n",
    "del name03[4]\n",
    "print(name03)"
   ]
  },
  {
   "cell_type": "code",
   "execution_count": 17,
   "metadata": {},
   "outputs": [
    {
     "name": "stdout",
     "output_type": "stream",
     "text": [
      "['aniket', 'sam', 'ritu', 'sana', 'rahul', 'varun', 'rohit', 'raj']\n"
     ]
    }
   ],
   "source": [
    "name03 = ['aniket', 'sam', 'ritu', 'sana', 'rahul', 'varun', 'rohit']\n",
    "print(name03)\n",
    "\n",
    "name03.append('raj')\n",
    "print(name03)\n",
    "\n",
    "name03.insert(4, 'nikhil')\n",
    "print(name03)\n",
    "\n",
    "del name03[4]\n",
    "print(name03)"
   ]
  },
  {
   "cell_type": "code",
   "execution_count": 18,
   "metadata": {},
   "outputs": [
    {
     "name": "stdout",
     "output_type": "stream",
     "text": [
      "['aniket', 'sam', 'ritu', 'sana', 'rahul', 'varun', 'rohit']\n",
      "['aniket', 'sam', 'ritu', 'sana', 'rahul', 'varun', 'rohit', 'raj']\n",
      "['aniket', 'sam', 'ritu', 'sana', 'nikhil', 'rahul', 'varun', 'rohit', 'raj']\n",
      "['aniket', 'sam', 'ritu', 'sana', 'rahul', 'varun', 'rohit', 'raj']\n"
     ]
    }
   ],
   "source": [
    "name03 = ['aniket', 'sam', 'ritu', 'sana', 'rahul', 'varun', 'rohit']\n",
    "print(name03)\n",
    "\n",
    "name03.append('raj')\n",
    "print(name03)\n",
    "\n",
    "name03.insert(4, 'nikhil')\n",
    "print(name03)\n",
    "\n",
    "del name03[4]\n",
    "print(name03)"
   ]
  },
  {
   "cell_type": "code",
   "execution_count": null,
   "metadata": {},
   "outputs": [],
   "source": []
  },
  {
   "cell_type": "code",
   "execution_count": null,
   "metadata": {},
   "outputs": [],
   "source": []
  },
  {
   "cell_type": "code",
   "execution_count": null,
   "metadata": {},
   "outputs": [],
   "source": []
  }
 ],
 "metadata": {
  "kernelspec": {
   "display_name": "Python 3",
   "language": "python",
   "name": "python3"
  },
  "language_info": {
   "codemirror_mode": {
    "name": "ipython",
    "version": 3
   },
   "file_extension": ".py",
   "mimetype": "text/x-python",
   "name": "python",
   "nbconvert_exporter": "python",
   "pygments_lexer": "ipython3",
   "version": "3.8.5"
  }
 },
 "nbformat": 4,
 "nbformat_minor": 4
}
