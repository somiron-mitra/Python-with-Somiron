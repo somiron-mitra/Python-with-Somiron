{
 "cells": [
  {
   "cell_type": "code",
   "execution_count": null,
   "metadata": {},
   "outputs": [],
   "source": [
    "# Introductionto data types\n",
    "\n",
    "#--- String\n",
    "#--- Numbers\n",
    "\n",
    "#--- List\n",
    "#--- Tuple\n",
    "#--- Dictionary\n",
    "\n",
    "# Now we would be getting into each type of data type and will be discussing "
   ]
  },
  {
   "cell_type": "code",
   "execution_count": 1,
   "metadata": {},
   "outputs": [],
   "source": [
    "# String --- str\n",
    "# Numbers --- Integers --- int\n",
    "  #              Float --- float\n",
    "# List --- list\n",
    "# Tuple --- tuple\n",
    "\n",
    "\n",
    "\n",
    "# Dictionary --- dict# Classification of Data types\n",
    "\n",
    "# data types can be classifiewd intp 2 types\n",
    "# 1. Mutable Data type (flexible) ---- mutable data type is that which we can edit or alter once it has been declared.\n",
    "# 2. Immutable Data type (fixed) ---- immutable data type is that which cannot be edited or we cannot alter once it has been declared"
   ]
  },
  {
   "cell_type": "code",
   "execution_count": 2,
   "metadata": {},
   "outputs": [],
   "source": [
    "# Introduction to String Data type\n",
    "\n",
    "# Overview or defn: a string is nothing but a series of characters enclosed in quotes.\n",
    "\n",
    "# Classification : string data types is classified as immutable datatype\n",
    "\n",
    "# how to define a string?\n",
    "\n",
    "# to define a string we have 3 possible ways\n",
    "\n",
    "# 1) Single Quote\n",
    "# 2) Double Quote\n",
    "# 3) Triple Quote\n",
    "\n"
   ]
  },
  {
   "cell_type": "code",
   "execution_count": 5,
   "metadata": {},
   "outputs": [
    {
     "name": "stdout",
     "output_type": "stream",
     "text": [
      "varun\n"
     ]
    }
   ],
   "source": [
    "# 1) Single Quote\n",
    "\n",
    "name = 'varun'\n",
    "print(name)"
   ]
  },
  {
   "cell_type": "code",
   "execution_count": 6,
   "metadata": {},
   "outputs": [
    {
     "name": "stdout",
     "output_type": "stream",
     "text": [
      "vipul\n"
     ]
    }
   ],
   "source": [
    "# 2) Double Quote\n",
    "\n",
    "name1 = \"vipul\"\n",
    "print(name1)"
   ]
  },
  {
   "cell_type": "code",
   "execution_count": 7,
   "metadata": {},
   "outputs": [
    {
     "name": "stdout",
     "output_type": "stream",
     "text": [
      "'rohit'\n"
     ]
    }
   ],
   "source": [
    "# 3) Triple Quote\n",
    "\n",
    "name3 = \"'rohit'\"\n",
    "print(name3)"
   ]
  },
  {
   "cell_type": "code",
   "execution_count": 9,
   "metadata": {},
   "outputs": [
    {
     "name": "stdout",
     "output_type": "stream",
     "text": [
      "\"rahul\"\n"
     ]
    }
   ],
   "source": [
    "name4 ='\"rahul\"'\n",
    "print(name4)"
   ]
  },
  {
   "cell_type": "code",
   "execution_count": 10,
   "metadata": {},
   "outputs": [
    {
     "ename": "SyntaxError",
     "evalue": "EOL while scanning string literal (<ipython-input-10-661e6b4bc8c3>, line 1)",
     "output_type": "error",
     "traceback": [
      "\u001b[1;36m  File \u001b[1;32m\"<ipython-input-10-661e6b4bc8c3>\"\u001b[1;36m, line \u001b[1;32m1\u001b[0m\n\u001b[1;33m    poem = 'Twinkle, twinkle, little star\u001b[0m\n\u001b[1;37m                                         ^\u001b[0m\n\u001b[1;31mSyntaxError\u001b[0m\u001b[1;31m:\u001b[0m EOL while scanning string literal\n"
     ]
    }
   ],
   "source": [
    "poem = 'Twinkle, twinkle, little star\n",
    "#How I wonder what you are\n",
    "#Up above the world so high\n",
    "#Like a diamond in the sky\n",
    "#Twinkle, twinkle little star\n",
    "#How I wonder what you are\n",
    "#When the blazing sun is gone\n",
    "#When he nothing shines upon\n",
    "#Then you show your little light\n",
    "#Twinkle, twinkle, all the night\n",
    "#Twinkle, twinkle, little star\n",
    "#How I wonder what you are'\n",
    "print(poem)"
   ]
  },
  {
   "cell_type": "code",
   "execution_count": 11,
   "metadata": {},
   "outputs": [
    {
     "ename": "SyntaxError",
     "evalue": "EOL while scanning string literal (<ipython-input-11-df02ccf70ee4>, line 1)",
     "output_type": "error",
     "traceback": [
      "\u001b[1;36m  File \u001b[1;32m\"<ipython-input-11-df02ccf70ee4>\"\u001b[1;36m, line \u001b[1;32m1\u001b[0m\n\u001b[1;33m    poem2 = \"Twinkle, twinkle, little star\u001b[0m\n\u001b[1;37m                                          ^\u001b[0m\n\u001b[1;31mSyntaxError\u001b[0m\u001b[1;31m:\u001b[0m EOL while scanning string literal\n"
     ]
    }
   ],
   "source": [
    "poem2 = \"Twinkle, twinkle, little star\n",
    "How I wonder what you are\n",
    "Up above the world so high\n",
    "Like a diamond in the sky\n",
    "Twinkle, twinkle little star\n",
    "How I wonder what you are\n",
    "When the blazing sun is gone\n",
    "When he nothing shines upon\n",
    "Then you show your little light\n",
    "Twinkle, twinkle, all the night\n",
    "Twinkle, twinkle, little star\n",
    "How I wonder what you are\"\n",
    "print(poem2)"
   ]
  },
  {
   "cell_type": "code",
   "execution_count": 12,
   "metadata": {},
   "outputs": [
    {
     "ename": "SyntaxError",
     "evalue": "EOL while scanning string literal (<ipython-input-12-070dd90221d3>, line 1)",
     "output_type": "error",
     "traceback": [
      "\u001b[1;36m  File \u001b[1;32m\"<ipython-input-12-070dd90221d3>\"\u001b[1;36m, line \u001b[1;32m1\u001b[0m\n\u001b[1;33m    poem3 = '\"Twinkle, twinkle, little star\u001b[0m\n\u001b[1;37m                                           ^\u001b[0m\n\u001b[1;31mSyntaxError\u001b[0m\u001b[1;31m:\u001b[0m EOL while scanning string literal\n"
     ]
    }
   ],
   "source": [
    "poem3 = '\"Twinkle, twinkle, little star\n",
    "How I wonder what you are\n",
    "Up above the world so high\n",
    "Like a diamond in the sky\n",
    "Twinkle, twinkle little star\n",
    "How I wonder what you are\n",
    "When the blazing sun is gone\n",
    "When he nothing shines upon\n",
    "Then you show your little light\n",
    "Twinkle, twinkle, all the night\n",
    "Twinkle, twinkle, little star\n",
    "How I wonder what you are\"'\n",
    "print(poem3)"
   ]
  },
  {
   "cell_type": "code",
   "execution_count": 13,
   "metadata": {},
   "outputs": [
    {
     "name": "stdout",
     "output_type": "stream",
     "text": [
      "somiron\n"
     ]
    }
   ],
   "source": [
    "name5 = '''somiron'''\n",
    "print(name5)"
   ]
  },
  {
   "cell_type": "code",
   "execution_count": 14,
   "metadata": {},
   "outputs": [
    {
     "name": "stdout",
     "output_type": "stream",
     "text": [
      "Twinkle, twinkle, little star\n",
      "How I wonder what you are\n",
      "Up above the world so high\n",
      "Like a diamond in the sky\n",
      "Twinkle, twinkle little star\n",
      "How I wonder what you are\n",
      "When the blazing sun is gone\n",
      "When he nothing shines upon\n",
      "Then you show your little light\n",
      "Twinkle, twinkle, all the night\n",
      "Twinkle, twinkle, little star\n",
      "How I wonder what you are\n"
     ]
    }
   ],
   "source": [
    "poem5 = '''Twinkle, twinkle, little star\n",
    "How I wonder what you are\n",
    "Up above the world so high\n",
    "Like a diamond in the sky\n",
    "Twinkle, twinkle little star\n",
    "How I wonder what you are\n",
    "When the blazing sun is gone\n",
    "When he nothing shines upon\n",
    "Then you show your little light\n",
    "Twinkle, twinkle, all the night\n",
    "Twinkle, twinkle, little star\n",
    "How I wonder what you are'''\n",
    "print(poem5)"
   ]
  },
  {
   "cell_type": "code",
   "execution_count": 18,
   "metadata": {},
   "outputs": [
    {
     "name": "stdout",
     "output_type": "stream",
     "text": [
      "Twinkle, twinkle, little star\n",
      "How I wonder what you are\n",
      "Up above the world so high\n",
      "Like a diamond in the sky\n",
      "Twinkle, twinkle little star\n",
      "How I wonder what you are\n",
      "When the blazing sun is gone\n",
      "When he nothing shines upon\n",
      "Then you show your little light\n",
      "Twinkle, twinkle, all the night\n",
      "Twinkle, twinkle, little star\n",
      "How I wonder what you are\n"
     ]
    }
   ],
   "source": [
    "poem = '''Twinkle, twinkle, little star\n",
    "How I wonder what you are\n",
    "Up above the world so high\n",
    "Like a diamond in the sky\n",
    "Twinkle, twinkle little star\n",
    "How I wonder what you are\n",
    "When the blazing sun is gone\n",
    "When he nothing shines upon\n",
    "Then you show your little light\n",
    "Twinkle, twinkle, all the night\n",
    "Twinkle, twinkle, little star\n",
    "How I wonder what you are'''\n",
    "print(poem)"
   ]
  },
  {
   "cell_type": "code",
   "execution_count": 19,
   "metadata": {},
   "outputs": [
    {
     "name": "stdout",
     "output_type": "stream",
     "text": [
      "parag\n"
     ]
    }
   ],
   "source": [
    "name7 = \"\"\"parag\"\"\"\n",
    "print(name7)"
   ]
  },
  {
   "cell_type": "code",
   "execution_count": null,
   "metadata": {},
   "outputs": [],
   "source": []
  },
  {
   "cell_type": "code",
   "execution_count": null,
   "metadata": {},
   "outputs": [],
   "source": []
  },
  {
   "cell_type": "code",
   "execution_count": null,
   "metadata": {},
   "outputs": [],
   "source": []
  },
  {
   "cell_type": "code",
   "execution_count": null,
   "metadata": {},
   "outputs": [],
   "source": []
  },
  {
   "cell_type": "code",
   "execution_count": null,
   "metadata": {},
   "outputs": [],
   "source": []
  }
 ],
 "metadata": {
  "kernelspec": {
   "display_name": "Python 3",
   "language": "python",
   "name": "python3"
  },
  "language_info": {
   "codemirror_mode": {
    "name": "ipython",
    "version": 3
   },
   "file_extension": ".py",
   "mimetype": "text/x-python",
   "name": "python",
   "nbconvert_exporter": "python",
   "pygments_lexer": "ipython3",
   "version": "3.8.5"
  }
 },
 "nbformat": 4,
 "nbformat_minor": 4
}
