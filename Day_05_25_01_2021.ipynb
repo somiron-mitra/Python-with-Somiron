{
 "cells": [
  {
   "cell_type": "code",
   "execution_count": null,
   "metadata": {},
   "outputs": [],
   "source": [
    "# Adding Spaces to strings\n",
    "\n",
    "# fav_subject python C C++ java maths english HTML"
   ]
  },
  {
   "cell_type": "code",
   "execution_count": 2,
   "metadata": {},
   "outputs": [
    {
     "name": "stdout",
     "output_type": "stream",
     "text": [
      "fav_subject python C C++ java maths english HTML\n"
     ]
    }
   ],
   "source": [
    "print(\"fav_subject python C C++ java maths english HTML\")"
   ]
  },
  {
   "cell_type": "code",
   "execution_count": 3,
   "metadata": {},
   "outputs": [
    {
     "name": "stdout",
     "output_type": "stream",
     "text": [
      "fav_subjectpythonCC++javamathsenglishHTML\n"
     ]
    }
   ],
   "source": [
    "print('fav_subjectpythonCC++javamathsenglishHTML')"
   ]
  },
  {
   "cell_type": "code",
   "execution_count": 4,
   "metadata": {},
   "outputs": [
    {
     "name": "stdout",
     "output_type": "stream",
     "text": [
      "fav_subject\n",
      "python\n",
      "C\n",
      "C++java maths english HTML\n"
     ]
    }
   ],
   "source": [
    "print('fav_subject' '\\npython' '\\nC' '\\nC++' 'java maths english HTML')"
   ]
  },
  {
   "cell_type": "code",
   "execution_count": null,
   "metadata": {},
   "outputs": [],
   "source": [
    "# '\\n' is a new line delimiter"
   ]
  },
  {
   "cell_type": "code",
   "execution_count": 20,
   "metadata": {},
   "outputs": [
    {
     "name": "stdout",
     "output_type": "stream",
     "text": [
      "fav_subject\n",
      "python\n",
      "C\n",
      "    C++\n",
      "                   java\n",
      "mathsenglish HTML\n"
     ]
    }
   ],
   "source": [
    "print('fav_subject' '\\npython' '\\nC' '\\n    C++' '\\n                   java' '\\nmaths' 'english HTML')"
   ]
  },
  {
   "cell_type": "code",
   "execution_count": 6,
   "metadata": {},
   "outputs": [
    {
     "name": "stdout",
     "output_type": "stream",
     "text": [
      "familypapamummysondaughter\n"
     ]
    }
   ],
   "source": [
    "print('familypapamummysondaughter')"
   ]
  },
  {
   "cell_type": "code",
   "execution_count": 7,
   "metadata": {},
   "outputs": [
    {
     "name": "stdout",
     "output_type": "stream",
     "text": [
      "family\n",
      "papa\n",
      "mummy\n",
      "\tson\n",
      "\tdaughter\n"
     ]
    }
   ],
   "source": [
    "print('family' '\\npapa' '\\nmummy' '\\n\\tson' '\\n\\tdaughter')"
   ]
  },
  {
   "cell_type": "code",
   "execution_count": null,
   "metadata": {},
   "outputs": [],
   "source": [
    "# '\\t' -- is tab delimeter"
   ]
  },
  {
   "cell_type": "code",
   "execution_count": 8,
   "metadata": {},
   "outputs": [
    {
     "name": "stdout",
     "output_type": "stream",
     "text": [
      "family\n",
      "\tpapa\n",
      "\tmummy\n",
      "\t\tson\n",
      "\t\t\tdaughter\n"
     ]
    }
   ],
   "source": [
    "print('family' '\\n\\tpapa' '\\n\\tmummy' '\\n\\t\\tson' '\\n\\t\\t\\tdaughter')"
   ]
  },
  {
   "cell_type": "code",
   "execution_count": 9,
   "metadata": {},
   "outputs": [
    {
     "name": "stdout",
     "output_type": "stream",
     "text": [
      "familygrandfathergrandmontherpapamummysondaughterchachachachibhaibehen\n"
     ]
    }
   ],
   "source": [
    "print('familygrandfathergrandmontherpapamummysondaughterchachachachibhaibehen')"
   ]
  },
  {
   "cell_type": "code",
   "execution_count": 10,
   "metadata": {},
   "outputs": [
    {
     "name": "stdout",
     "output_type": "stream",
     "text": [
      "family\n",
      "grandfathergrandmonther\n",
      "papamummysondaughter\n",
      "chachachachibhaibehen\n"
     ]
    }
   ],
   "source": [
    "print('family''\\ngrandfathergrandmonther''\\npapamummysondaughter''\\nchachachachibhaibehen')"
   ]
  },
  {
   "cell_type": "code",
   "execution_count": 13,
   "metadata": {},
   "outputs": [
    {
     "name": "stdout",
     "output_type": "stream",
     "text": [
      "family\n",
      "\tgrandfather\n",
      "\tgrandmonther\n",
      "\t\tpapa\n",
      "\t\tmummy\n",
      "\t\t\tson\n",
      "\t\t\tdaughter\n",
      "\t\tchacha\n",
      "\t\tchachi\n",
      "\t\t\tbhai\n",
      "\t\t\tbehen\n"
     ]
    }
   ],
   "source": [
    "print('family''\\n\\tgrandfather''\\n\\tgrandmonther''\\n\\t\\tpapa''\\n\\t\\tmummy''\\n\\t\\t\\tson''\\n\\t\\t\\tdaughter''\\n\\t\\tchacha''\\n\\t\\tchachi''\\n\\t\\t\\tbhai''\\n\\t\\t\\tbehen')"
   ]
  },
  {
   "cell_type": "code",
   "execution_count": 31,
   "metadata": {},
   "outputs": [
    {
     "name": "stdout",
     "output_type": "stream",
     "text": [
      "                   a\n",
      "                         a\n",
      "        a                       a\n"
     ]
    }
   ],
   "source": [
    "print('                   a''\\n                         a' '\\n        a                       a')"
   ]
  },
  {
   "cell_type": "code",
   "execution_count": null,
   "metadata": {},
   "outputs": [],
   "source": []
  },
  {
   "cell_type": "code",
   "execution_count": null,
   "metadata": {},
   "outputs": [],
   "source": []
  },
  {
   "cell_type": "code",
   "execution_count": null,
   "metadata": {},
   "outputs": [],
   "source": []
  },
  {
   "cell_type": "code",
   "execution_count": null,
   "metadata": {},
   "outputs": [],
   "source": []
  },
  {
   "cell_type": "code",
   "execution_count": null,
   "metadata": {},
   "outputs": [],
   "source": []
  },
  {
   "cell_type": "code",
   "execution_count": null,
   "metadata": {},
   "outputs": [],
   "source": []
  },
  {
   "cell_type": "code",
   "execution_count": null,
   "metadata": {},
   "outputs": [],
   "source": []
  },
  {
   "cell_type": "code",
   "execution_count": null,
   "metadata": {},
   "outputs": [],
   "source": []
  }
 ],
 "metadata": {
  "kernelspec": {
   "display_name": "Python 3",
   "language": "python",
   "name": "python3"
  },
  "language_info": {
   "codemirror_mode": {
    "name": "ipython",
    "version": 3
   },
   "file_extension": ".py",
   "mimetype": "text/x-python",
   "name": "python",
   "nbconvert_exporter": "python",
   "pygments_lexer": "ipython3",
   "version": "3.8.5"
  }
 },
 "nbformat": 4,
 "nbformat_minor": 4
}
