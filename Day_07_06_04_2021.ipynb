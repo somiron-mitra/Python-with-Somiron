{
 "cells": [
  {
   "cell_type": "code",
   "execution_count": 1,
   "metadata": {},
   "outputs": [
    {
     "name": "stdout",
     "output_type": "stream",
     "text": [
      "family\n",
      "\tgrandfather\n",
      "\tgrandmonther\n",
      "\t\tpapa\n",
      "\t\tmummy\n",
      "\t\t\tson\n",
      "\t\t\tdaughter\n",
      "\t\tchacha\n",
      "\t\tchachi\n",
      "\t\t\tbhai\n",
      "\t\t\tbehen\n"
     ]
    }
   ],
   "source": [
    "print('family''\\n\\tgrandfather''\\n\\tgrandmonther''\\n\\t\\tpapa''\\n\\t\\tmummy''\\n\\t\\t\\tson''\\n\\t\\t\\tdaughter''\\n\\t\\tchacha''\\n\\t\\tchachi''\\n\\t\\t\\tbhai''\\n\\t\\t\\tbehen')"
   ]
  },
  {
   "cell_type": "code",
   "execution_count": 2,
   "metadata": {},
   "outputs": [
    {
     "name": "stdout",
     "output_type": "stream",
     "text": [
      "Varun Vipul Rahul\n"
     ]
    }
   ],
   "source": [
    "print(\"Varun Vipul Rahul\")"
   ]
  },
  {
   "cell_type": "code",
   "execution_count": 4,
   "metadata": {},
   "outputs": [
    {
     "name": "stdout",
     "output_type": "stream",
     "text": [
      "Varun\n",
      "VipulRahul\n"
     ]
    }
   ],
   "source": [
    "print(\"Varun\" \"\\nVipul\" \"Rahul\")"
   ]
  },
  {
   "cell_type": "code",
   "execution_count": 7,
   "metadata": {},
   "outputs": [
    {
     "name": "stdout",
     "output_type": "stream",
     "text": [
      "\n",
      "Varun\n",
      "\n",
      "\n",
      "VipulRahul\n"
     ]
    }
   ],
   "source": [
    "print(\"\\nVarun\" \"\\n\\n\\nVipul\" \"Rahul\")"
   ]
  },
  {
   "cell_type": "code",
   "execution_count": 9,
   "metadata": {},
   "outputs": [
    {
     "name": "stdout",
     "output_type": "stream",
     "text": [
      "\n",
      "Varun\n",
      "\n",
      "\n",
      "Vipul\tRahul\n"
     ]
    }
   ],
   "source": [
    "print(\"\\nVarun\" \"\\n\\n\\nVipul\" \"\\tRahul\")"
   ]
  },
  {
   "cell_type": "code",
   "execution_count": 17,
   "metadata": {
    "scrolled": true
   },
   "outputs": [
    {
     "name": "stdout",
     "output_type": "stream",
     "text": [
      "\n",
      "\t\t\n",
      "\tVarun\n",
      "\n",
      "\n",
      "Vipul\n",
      "\tRahul\n"
     ]
    }
   ],
   "source": [
    "print(\"\\n\\t\\t\\n\\tVarun\" \"\\n\\n\\nVipul\" \"\\n\\tRahul\")"
   ]
  },
  {
   "cell_type": "code",
   "execution_count": null,
   "metadata": {},
   "outputs": [],
   "source": []
  },
  {
   "cell_type": "code",
   "execution_count": 21,
   "metadata": {},
   "outputs": [
    {
     "name": "stdout",
     "output_type": "stream",
     "text": [
      "family\n",
      "\tgrandfather\n",
      "\tgrandmonther\n",
      "\t\tpapa\n",
      "\t\tmummy\n",
      "\t\t\tson\n",
      "\t\t\tdaughter\n",
      "\t\tchacha\n",
      "\t\tchachi\n",
      "\t\t\tbhai\n",
      "\t\t\tbehen\n"
     ]
    }
   ],
   "source": [
    "print('family''\\n\\tgrandfather''\\n\\tgrandmonther''\\n\\t\\tpapa''\\n\\t\\tmummy''\\n\\t\\t\\tson''\\n\\t\\t\\tdaughter''\\n\\t\\tchacha''\\n\\t\\tchachi''\\n\\t\\t\\tbhai''\\n\\t\\t\\tbehen')"
   ]
  },
  {
   "cell_type": "code",
   "execution_count": 24,
   "metadata": {},
   "outputs": [
    {
     "name": "stdout",
     "output_type": "stream",
     "text": [
      "family.title()\n",
      "\tgrandfather\n",
      "\tgrandmother\n",
      "\t\tpapa\n",
      "\t\tmummy\n",
      "\t\t\tson\n",
      "\t\t\tdaughter\n",
      "\tchacha\n",
      "\tchachi\n",
      "\t\tbhai\n",
      "\t\tbehen\n"
     ]
    }
   ],
   "source": [
    "print(\"family.title()\")\n",
    "print(\"\\tgrandfather\")\n",
    "print(\"\\tgrandmother\")\n",
    "print(\"\\t\\tpapa\")\n",
    "print(\"\\t\\tmummy\")\n",
    "print(\"\\t\\t\\tson\")\n",
    "print(\"\\t\\t\\tdaughter\")\n",
    "print('\\tchacha')\n",
    "print('\\tchachi')\n",
    "print('\\t\\tbhai')\n",
    "print('\\t\\tbehen')"
   ]
  },
  {
   "cell_type": "code",
   "execution_count": null,
   "metadata": {},
   "outputs": [],
   "source": [
    "# f string"
   ]
  },
  {
   "cell_type": "code",
   "execution_count": 25,
   "metadata": {},
   "outputs": [
    {
     "name": "stdout",
     "output_type": "stream",
     "text": [
      "somiron mitra\n"
     ]
    }
   ],
   "source": [
    "first = 'somiron'\n",
    "last = 'mitra'\n",
    "full_name = f'{first} {last}'\n",
    "\n",
    "print(full_name)"
   ]
  },
  {
   "cell_type": "code",
   "execution_count": 31,
   "metadata": {},
   "outputs": [
    {
     "name": "stdout",
     "output_type": "stream",
     "text": [
      "Somiron Mitra\n"
     ]
    }
   ],
   "source": [
    "first=('somiron')\n",
    "last=('mitra')\n",
    "full_name = f'{first.title()} {last.title()}'\n",
    "\n",
    "print(full_name)"
   ]
  },
  {
   "cell_type": "code",
   "execution_count": 32,
   "metadata": {},
   "outputs": [
    {
     "data": {
      "text/plain": [
       "str"
      ]
     },
     "execution_count": 32,
     "metadata": {},
     "output_type": "execute_result"
    }
   ],
   "source": [
    "type(first)"
   ]
  },
  {
   "cell_type": "code",
   "execution_count": null,
   "metadata": {},
   "outputs": [],
   "source": [
    "print(\"family.title()\")\n",
    "print(\"\\tgrandfather\")\n",
    "print(\"\\tgrandmother\")\n",
    "print(\"\\t\\tpapa\")\n",
    "print(\"\\t\\tmummy\")\n",
    "print(\"\\t\\t\\tson\")\n",
    "print(\"\\t\\t\\tdaughter\")\n",
    "print('\\tchacha')\n",
    "print('\\tchachi')\n",
    "print('\\t\\tbhai')\n",
    "print('\\t\\tbehen')"
   ]
  },
  {
   "cell_type": "code",
   "execution_count": 33,
   "metadata": {},
   "outputs": [
    {
     "name": "stdout",
     "output_type": "stream",
     "text": [
      "somiron mitra\n"
     ]
    }
   ],
   "source": [
    "first=('somiron')\n",
    "last=('mitra')\n",
    "full_name = f'{first.title()} {last.title()}'\n",
    "\n",
    "\n",
    "\n",
    "print(first, last)"
   ]
  },
  {
   "cell_type": "code",
   "execution_count": null,
   "metadata": {},
   "outputs": [],
   "source": []
  },
  {
   "cell_type": "code",
   "execution_count": null,
   "metadata": {},
   "outputs": [],
   "source": []
  },
  {
   "cell_type": "code",
   "execution_count": null,
   "metadata": {},
   "outputs": [],
   "source": []
  },
  {
   "cell_type": "code",
   "execution_count": null,
   "metadata": {},
   "outputs": [],
   "source": []
  },
  {
   "cell_type": "code",
   "execution_count": null,
   "metadata": {},
   "outputs": [],
   "source": []
  },
  {
   "cell_type": "code",
   "execution_count": null,
   "metadata": {},
   "outputs": [],
   "source": []
  }
 ],
 "metadata": {
  "kernelspec": {
   "display_name": "Python 3",
   "language": "python",
   "name": "python3"
  },
  "language_info": {
   "codemirror_mode": {
    "name": "ipython",
    "version": 3
   },
   "file_extension": ".py",
   "mimetype": "text/x-python",
   "name": "python",
   "nbconvert_exporter": "python",
   "pygments_lexer": "ipython3",
   "version": "3.8.5"
  }
 },
 "nbformat": 4,
 "nbformat_minor": 4
}
