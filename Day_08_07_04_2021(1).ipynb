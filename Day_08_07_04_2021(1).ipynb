{
 "cells": [
  {
   "cell_type": "code",
   "execution_count": 4,
   "metadata": {},
   "outputs": [
    {
     "name": "stdout",
     "output_type": "stream",
     "text": [
      "somiron mitra\n"
     ]
    }
   ],
   "source": [
    "first=('somiron')\n",
    "last=('mitra')\n",
    "full_name = f'{first.title()} {last.title()}'\n",
    "\n",
    "\n",
    "\n",
    "print(first, last)"
   ]
  },
  {
   "cell_type": "code",
   "execution_count": 3,
   "metadata": {},
   "outputs": [
    {
     "name": "stdout",
     "output_type": "stream",
     "text": [
      "Somiron Mitra\n"
     ]
    }
   ],
   "source": [
    "first=('somiron')\n",
    "last=('mitra')\n",
    "full_name = f'{first.title()} {last.title()}'\n",
    "\n",
    "\n",
    "\n",
    "print(full_name)"
   ]
  },
  {
   "cell_type": "code",
   "execution_count": 5,
   "metadata": {},
   "outputs": [
    {
     "name": "stdout",
     "output_type": "stream",
     "text": [
      "somiron mitra\n",
      "Somiron Mitra\n"
     ]
    }
   ],
   "source": [
    "first=('somiron')\n",
    "last=('mitra')\n",
    "full_name = f'{first.title()} {last.title()}'\n",
    "\n",
    "\n",
    "\n",
    "print(first, last)\n",
    "print(full_name)"
   ]
  },
  {
   "cell_type": "code",
   "execution_count": 12,
   "metadata": {},
   "outputs": [
    {
     "name": "stdout",
     "output_type": "stream",
     "text": [
      "somiron mitra\n",
      "Somiron Mitra\n",
      "My name is Somiron Mitra\n",
      "My nick name is PIKUN\n",
      "I am a trainer\n",
      "mitra somiron\n"
     ]
    }
   ],
   "source": [
    "first=('somiron')\n",
    "last=('mitra')\n",
    "nick=('pikun')\n",
    "name=('MITRA SOMIRON')\n",
    "full_name = f'{first.title()} {last.title()}'\n",
    "\n",
    "full_name1 = f'My name is {first.title()} {last.title()}'\n",
    "full_name2 = f'My nick name is {nick.upper()}'\n",
    "full_name3 = f'{name.lower()}'\n",
    "\n",
    "\n",
    "print(first, last)\n",
    "print(full_name)\n",
    "print(full_name1)\n",
    "print(full_name2)\n",
    "print(\"I am a trainer\")\n",
    "print(full_name3)"
   ]
  },
  {
   "cell_type": "code",
   "execution_count": 15,
   "metadata": {},
   "outputs": [
    {
     "name": "stdout",
     "output_type": "stream",
     "text": [
      "somiron mitra\n",
      "Somiron Mitra\n",
      "My name is Somiron Mitra\n",
      "My nick name is PIKUN\n",
      "I am a trainer\n",
      "     my name in small letters is mitra somiron\n"
     ]
    }
   ],
   "source": [
    "first=('somiron')\n",
    "last=('mitra')\n",
    "nick=('pikun')\n",
    "name=('MITRA SOMIRON')\n",
    "full_name = f'{first.title()} {last.title()}'\n",
    "\n",
    "full_name1 = f'My name is {first.title()} {last.title()}'\n",
    "full_name2 = f'My nick name is {nick.upper()}'\n",
    "full_name3 = f'{name.lower()}'\n",
    "full_name3 = f'     my name in small letters is {name.lower()}'\n",
    "\n",
    "\n",
    "print(first, last)\n",
    "print(full_name)\n",
    "print(full_name1)\n",
    "print(full_name2)\n",
    "print(\"I am a trainer\")\n",
    "print(full_name3)"
   ]
  },
  {
   "cell_type": "code",
   "execution_count": 19,
   "metadata": {},
   "outputs": [
    {
     "name": "stdout",
     "output_type": "stream",
     "text": [
      "   Somiron\n",
      "     mitra      \n",
      "              Somiron Mitra\n",
      "Somiron Mitra                        \n"
     ]
    }
   ],
   "source": [
    "name1 = \"   Somiron\"\n",
    "name2 = \"     mitra      \"\n",
    "name3 = \"              Somiron Mitra\"\n",
    "name4 = \"Somiron Mitra                        \"\n",
    "\n",
    "\n",
    "print(name1)\n",
    "print(name2)\n",
    "print(name3)\n",
    "print(name4)"
   ]
  },
  {
   "cell_type": "code",
   "execution_count": null,
   "metadata": {},
   "outputs": [],
   "source": []
  },
  {
   "cell_type": "code",
   "execution_count": null,
   "metadata": {},
   "outputs": [],
   "source": [
    "# req : to elimnate the white spaces\n"
   ]
  },
  {
   "cell_type": "code",
   "execution_count": 32,
   "metadata": {},
   "outputs": [
    {
     "name": "stdout",
     "output_type": "stream",
     "text": [
      "Somiron\n",
      "mitra\n",
      "              Somiron Mitra\n",
      "Somiron Mitra                        \n"
     ]
    }
   ],
   "source": [
    "name1 = \"   Somiron\"\n",
    "name2 = \"     mitra      \"\n",
    "name3 = \"              Somiron Mitra\"\n",
    "name4 = \"Somiron Mitra                        \"\n",
    "\n",
    "\n",
    "print(name1.lstrip())\n",
    "print(name2.strip())\n",
    "print(name3)\n",
    "print(name4)"
   ]
  },
  {
   "cell_type": "code",
   "execution_count": null,
   "metadata": {},
   "outputs": [],
   "source": [
    "# lstrip() ===> eliminated or removes the white space on the left of the text\n",
    "# rstrip() ===> eliminated or removes the white space on the right of the text\n",
    "# strip() ===> it removes all the spaces\n"
   ]
  },
  {
   "cell_type": "code",
   "execution_count": null,
   "metadata": {},
   "outputs": [],
   "source": []
  },
  {
   "cell_type": "code",
   "execution_count": 38,
   "metadata": {},
   "outputs": [
    {
     "name": "stdout",
     "output_type": "stream",
     "text": [
      "Somiron MITRA\n",
      "Somiron Mitra\n",
      "My name is Somiron Mitra\n",
      "My nick name is PIKUN\n",
      "I am a trainer\n",
      "my name in small letters is mitra somiron\n"
     ]
    }
   ],
   "source": [
    "first=('somiron')\n",
    "last=('mitra')\n",
    "nick=('pikun')\n",
    "name=('MITRA SOMIRON')\n",
    "full_name = f'{first.title()} {last.title()}'\n",
    "\n",
    "full_name1 = f'My name is {first.title()} {last.title()}'\n",
    "full_name2 = f'My nick name is {nick.upper()}'\n",
    "full_name3 = f'{name.lower()}'\n",
    "full_name3 = f'     my name in small letters is {name.lower()}'\n",
    "\n",
    "\n",
    "print(first.title(), last.upper())\n",
    "print(full_name)\n",
    "print(full_name1)\n",
    "print(full_name2)\n",
    "print(\"I am a trainer\")\n",
    "print(full_name3.strip())"
   ]
  },
  {
   "cell_type": "code",
   "execution_count": 36,
   "metadata": {},
   "outputs": [
    {
     "name": "stdout",
     "output_type": "stream",
     "text": [
      "   Somiron.lstrip()\n"
     ]
    }
   ],
   "source": [
    "name1 = \"   Somiron.lstrip()\"\n",
    "print(name1)"
   ]
  },
  {
   "cell_type": "code",
   "execution_count": 73,
   "metadata": {},
   "outputs": [
    {
     "name": "stdout",
     "output_type": "stream",
     "text": [
      "rahul\n"
     ]
    }
   ],
   "source": [
    "print(\"                             \\n\\t\\n\\t\\trahul\".lstrip())"
   ]
  },
  {
   "cell_type": "code",
   "execution_count": 49,
   "metadata": {},
   "outputs": [
    {
     "name": "stdout",
     "output_type": "stream",
     "text": [
      "FAMILY\n",
      "\tGrandfather\n",
      "\tgrandmother\n",
      "\tgrandfather\n",
      "\tgrandmother\n",
      "\t\tpapa\n",
      "\t\tmummy\n",
      "\t\t\tson\n",
      "\t\t\tdaughter\n",
      "\tchacha\n",
      "\tchachi\n",
      "\t\tbhai\n",
      "\t\tbehen\n",
      "\t\tpapa\n",
      "\t\tmummy\n",
      "\t\t\tson\n",
      "\t\t\tdaughter\n",
      "\tchacha\n",
      "\tchachi\n",
      "\t\tbhai\n",
      "\t\tbehen\n"
     ]
    }
   ],
   "source": [
    "print(\"family\".upper())\n",
    "print(\"\\tgrandfather\".title())\n",
    "print(\"\\tgrandmother\")\n",
    "print(\"\\tgrandfather\")\n",
    "print(\"\\tgrandmother\")\n",
    "print(\"\\t\\tpapa\")\n",
    "print(\"\\t\\tmummy\")\n",
    "print(\"\\t\\t\\tson\")\n",
    "print(\"\\t\\t\\tdaughter\")\n",
    "print('\\tchacha')\n",
    "print('\\tchachi')\n",
    "print('\\t\\tbhai')\n",
    "print('\\t\\tbehen')\n",
    "print(\"\\t\\tpapa\")\n",
    "print(\"\\t\\tmummy\")\n",
    "print(\"\\t\\t\\tson\")\n",
    "print(\"\\t\\t\\tdaughter\")\n",
    "print('\\tchacha')\n",
    "print('\\tchachi')\n",
    "print('\\t\\tbhai')\n",
    "print('\\t\\tbehen')"
   ]
  },
  {
   "cell_type": "code",
   "execution_count": 2,
   "metadata": {},
   "outputs": [
    {
     "data": {
      "text/plain": [
       "'RAHUL'"
      ]
     },
     "execution_count": 2,
     "metadata": {},
     "output_type": "execute_result"
    }
   ],
   "source": [
    "name = \"rahul\"\n",
    "f'{name.upper()}'"
   ]
  },
  {
   "cell_type": "code",
   "execution_count": null,
   "metadata": {},
   "outputs": [],
   "source": []
  },
  {
   "cell_type": "code",
   "execution_count": 94,
   "metadata": {},
   "outputs": [
    {
     "name": "stdout",
     "output_type": "stream",
     "text": [
      "sam rahul\n"
     ]
    }
   ],
   "source": [
    "print(\"sam\",\"\\t\\trahul\".strip())"
   ]
  },
  {
   "cell_type": "code",
   "execution_count": null,
   "metadata": {},
   "outputs": [],
   "source": []
  },
  {
   "cell_type": "code",
   "execution_count": null,
   "metadata": {},
   "outputs": [],
   "source": []
  },
  {
   "cell_type": "code",
   "execution_count": null,
   "metadata": {},
   "outputs": [],
   "source": []
  },
  {
   "cell_type": "code",
   "execution_count": null,
   "metadata": {},
   "outputs": [],
   "source": []
  },
  {
   "cell_type": "code",
   "execution_count": null,
   "metadata": {},
   "outputs": [],
   "source": []
  },
  {
   "cell_type": "code",
   "execution_count": null,
   "metadata": {},
   "outputs": [],
   "source": []
  },
  {
   "cell_type": "code",
   "execution_count": null,
   "metadata": {},
   "outputs": [],
   "source": []
  },
  {
   "cell_type": "code",
   "execution_count": null,
   "metadata": {},
   "outputs": [],
   "source": []
  },
  {
   "cell_type": "code",
   "execution_count": null,
   "metadata": {},
   "outputs": [],
   "source": []
  },
  {
   "cell_type": "code",
   "execution_count": null,
   "metadata": {},
   "outputs": [],
   "source": []
  },
  {
   "cell_type": "code",
   "execution_count": null,
   "metadata": {},
   "outputs": [],
   "source": []
  },
  {
   "cell_type": "code",
   "execution_count": null,
   "metadata": {},
   "outputs": [],
   "source": []
  },
  {
   "cell_type": "code",
   "execution_count": null,
   "metadata": {},
   "outputs": [],
   "source": []
  },
  {
   "cell_type": "code",
   "execution_count": null,
   "metadata": {},
   "outputs": [],
   "source": []
  }
 ],
 "metadata": {
  "kernelspec": {
   "display_name": "Python 3",
   "language": "python",
   "name": "python3"
  },
  "language_info": {
   "codemirror_mode": {
    "name": "ipython",
    "version": 3
   },
   "file_extension": ".py",
   "mimetype": "text/x-python",
   "name": "python",
   "nbconvert_exporter": "python",
   "pygments_lexer": "ipython3",
   "version": "3.8.5"
  }
 },
 "nbformat": 4,
 "nbformat_minor": 4
}
